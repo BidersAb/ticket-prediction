{
 "cells": [
  {
   "cell_type": "code",
   "execution_count": 1,
   "id": "e2a708ad",
   "metadata": {},
   "outputs": [],
   "source": [
    "import pandas as pd\n",
    "import datetime as date\n",
    "import re\n",
    "#loading dataset\n",
    "df=pd.read_excel('Data.xlsx')\n",
    "# print(df)\n",
    "# df\n",
    "\n",
    "# reading row\n",
    "# print(df.head(10))\n",
    "# print(df.iloc[0:10])\n",
    "\n",
    "# reading row using loop \n",
    "\n",
    "# for index, row in df.iterrows():\n",
    "#     print(index,row)\n",
    "    \n",
    "# for index, row in df.iterrows():\n",
    "#     print(index,row['Nationality'])\n",
    "\n",
    "# reading column\n",
    "# print(df.columns)\n",
    "\n",
    "# read each column\n",
    "# print(df['Nationality'])\n",
    "# print(df[['Nationality','title']])\n",
    "\n",
    "# read column by range from 0-10\n",
    "# print(df['Nationality'][0:10])\n",
    "# print(df[['Nationality','title']][0:10])\n",
    "\n",
    "# read specific value by iloc[row,column]\n",
    "# print(df.iloc[10,7])\n",
    "\n",
    "# filtering\n",
    "# df.loc[df['Nationality']=='Ethiopia']\n",
    "# df.describe()\n",
    "\n",
    "# sorting \n",
    "# df.sort_values(['Nationality'])\n",
    "# df.sort_index()\n",
    "\n",
    "# #drop column \n",
    "# NewDataFm=df.drop(columns='Age')\n",
    "# NewDataFm\n",
    "\n",
    "# #adding column \n",
    "# NewDataFm['Test']='Value'\n",
    "# we can add aggregated value like sum of specific column\n",
    "# NewDataFm['Total']=df.iloc[:,4:10].sum(asis=1)\n",
    "# NewDataFm\n",
    "\n",
    "# saving data \n",
    "# df.to_excel('File name.xlsx')\n",
    "# df.to_excel('File name.xlsx', index=False)\n",
    "\n"
   ]
  },
  {
   "cell_type": "markdown",
   "id": "df337f65",
   "metadata": {},
   "source": [
    "# Advanced filtering Data"
   ]
  },
  {
   "cell_type": "code",
   "execution_count": 2,
   "id": "e8b8d214",
   "metadata": {},
   "outputs": [],
   "source": [
    "# when use condtional and we only use the symbole & and for or |\n",
    "# df.loc[(df['Nationality']=='Ethiopia') & (df['gender']=='F')]\n",
    "# new_df=df.loc[(df['Nationality']=='Ethiopia') & (df['gender']=='F')]\n",
    "# new_df\n",
    "\n",
    "# when we want to save new data set it saves the existing index so to add new index we use \n",
    "# new_df=new_df.reset_index()\n",
    "# new_df\n",
    "\n",
    "# if we want to remove the existing index\n",
    "# new_df=new_df.reset_index(drop=True)\n",
    "# new_df\n",
    "\n",
    "# if we want to filter specfic string in the data set \n",
    "#import datetime as date\n",
    "\n",
    "# #filter date of birth is greater than 2000\n",
    "# df.loc[df['dateOfBirth'] > date.datetime(2000,10,10)]\n",
    "\n",
    "# #filter date fo birth is greater than 200 and gender is female \n",
    "# df.loc[(df['dateOfBirth'] > date.datetime(2000,10,10) )& (df['gender']=='F')]\n"
   ]
  },
  {
   "cell_type": "markdown",
   "id": "5515f771",
   "metadata": {},
   "source": [
    "# Condtional change or modification\n"
   ]
  },
  {
   "cell_type": "code",
   "execution_count": 3,
   "id": "1dfdf935",
   "metadata": {
    "scrolled": true
   },
   "outputs": [],
   "source": [
    "# change class of service from Economic class to Economic\n",
    "# df.loc[df['cabin_class of service'] == 'Economy Class','cabin_class of service']='Economy'\n"
   ]
  },
  {
   "cell_type": "markdown",
   "id": "a11376db",
   "metadata": {},
   "source": [
    "# Aggregate statistics (groupby)"
   ]
  },
  {
   "cell_type": "code",
   "execution_count": 4,
   "id": "783338d0",
   "metadata": {},
   "outputs": [],
   "source": [
    "df=pd.read_excel('Data.xlsx')\n",
    "\n",
    "# mean\n",
    "# it works for miles because there is only mile attrbute is measureble\n",
    "# df.groupby('cabin_class of service').mean()\n",
    "# df.groupby('cabin_class of service').mean().sort_values('miles',ascending=False)\n",
    "\n",
    "#sum\n",
    "#df.groupby('cabin_class of service').sum()\n",
    "\n",
    "#count\n",
    "# df.count()\n",
    "# df.groupby('cabin_class of service').count()\n",
    "# df.groupby(['cabin_class of service','gender','Reservation Status']).count()\n",
    "# df.groupby('Fligth_ID').count()\n"
   ]
  },
  {
   "cell_type": "markdown",
   "id": "b61f6877",
   "metadata": {},
   "source": [
    "# Data cleaning and Modification"
   ]
  },
  {
   "cell_type": "code",
   "execution_count": 59,
   "id": "6208b320",
   "metadata": {},
   "outputs": [],
   "source": [
    "# Age calculation\n",
    "from datetime import date\n",
    " \n",
    "def age(birthdate):\n",
    "    today = date.today()\n",
    "    age = today.year - birthdate.year - ((today.month, today.day) < (birthdate.month, birthdate.day))\n",
    "    return age\n",
    "\n",
    "def replaceShortValue():\n",
    "    for index, row in df.iterrows():\n",
    "        df.iloc[index,4]=age(row['dateOfBirth'])\n",
    "    df.loc[df['cabin_class of service'] == 'Economy Class','cabin_class of service']='Economy'\n",
    "    df.loc[df['cabin_class of service'] == 'Business Class','cabin_class of service']='Business'\n",
    "    \n",
    "def replaceNullValue():\n",
    "    df[\"title\"].fillna(\"No title\", inplace = True)\n",
    "    df[\"gender\"].fillna(\"No gender\", inplace = True)\n",
    "    df[\"Nationality\"].fillna(\"No Nationality\", inplace = True)\n",
    "    df[\"dateOfBirth\"].fillna(\"No dateOfBirth\", inplace = True)\n",
    "    df[\"Age\"].fillna(\"No Age\", inplace = True)\n",
    "    df[\"miles\"].fillna(\"No miles\", inplace = True)\n",
    "    df[\"Fligth_ID\"].fillna(\"No Fligth_ID\", inplace = True)\n",
    "    df[\"cabin_class of service\"].fillna(\"No cabin_class\", inplace = True)\n",
    "    df[\"Reservation Status\"].fillna(\"No Reservation Status\", inplace = True)\n",
    "    df[\"Date_of_Reservation\"].fillna(\"No Date_of_Reservation\", inplace = True)\n",
    "    df[\"Date_of_Cancelation\"].fillna(\"No Date_of_Cancelation\", inplace = True)\n",
    "    df[\"Tiketed_Date\"].fillna(\"No Tiketed_Date\", inplace = True)\n",
    "    df[\"Ticket First time Use\"].fillna(\"No Ticket First time Use\", inplace = True)\n",
    "    df[\"Rescheduled_Date\"].fillna(\"No Rescheduled_Date\", inplace = True)\n",
    "    df[\"Refund Status\"].fillna(\"No Refund Status\", inplace = True)\n",
    "\n",
    "def saveModifyData():\n",
    "    df.to_excel('ModfideData.xlsx')\n",
    "    \n",
    "def completeAllTask():\n",
    "    replaceShortValue()\n",
    "    replaceNullValue()\n",
    "    saveModifyData()\n",
    "#completeAllTask()"
   ]
  },
  {
   "cell_type": "markdown",
   "id": "a96f687d",
   "metadata": {},
   "source": [
    "# Aggregation for Modifyed Data "
   ]
  },
  {
   "cell_type": "code",
   "execution_count": 77,
   "id": "cc8bb944",
   "metadata": {},
   "outputs": [
    {
     "data": {
      "text/html": [
       "<div>\n",
       "<style scoped>\n",
       "    .dataframe tbody tr th:only-of-type {\n",
       "        vertical-align: middle;\n",
       "    }\n",
       "\n",
       "    .dataframe tbody tr th {\n",
       "        vertical-align: top;\n",
       "    }\n",
       "\n",
       "    .dataframe thead th {\n",
       "        text-align: right;\n",
       "    }\n",
       "</style>\n",
       "<table border=\"1\" class=\"dataframe\">\n",
       "  <thead>\n",
       "    <tr style=\"text-align: right;\">\n",
       "      <th></th>\n",
       "      <th>Unnamed: 0</th>\n",
       "      <th>Age</th>\n",
       "    </tr>\n",
       "  </thead>\n",
       "  <tbody>\n",
       "    <tr>\n",
       "      <th>count</th>\n",
       "      <td>1368.000000</td>\n",
       "      <td>1368.000000</td>\n",
       "    </tr>\n",
       "    <tr>\n",
       "      <th>mean</th>\n",
       "      <td>683.500000</td>\n",
       "      <td>37.837719</td>\n",
       "    </tr>\n",
       "    <tr>\n",
       "      <th>std</th>\n",
       "      <td>395.051895</td>\n",
       "      <td>13.326082</td>\n",
       "    </tr>\n",
       "    <tr>\n",
       "      <th>min</th>\n",
       "      <td>0.000000</td>\n",
       "      <td>14.000000</td>\n",
       "    </tr>\n",
       "    <tr>\n",
       "      <th>25%</th>\n",
       "      <td>341.750000</td>\n",
       "      <td>28.000000</td>\n",
       "    </tr>\n",
       "    <tr>\n",
       "      <th>50%</th>\n",
       "      <td>683.500000</td>\n",
       "      <td>35.000000</td>\n",
       "    </tr>\n",
       "    <tr>\n",
       "      <th>75%</th>\n",
       "      <td>1025.250000</td>\n",
       "      <td>44.000000</td>\n",
       "    </tr>\n",
       "    <tr>\n",
       "      <th>max</th>\n",
       "      <td>1367.000000</td>\n",
       "      <td>72.000000</td>\n",
       "    </tr>\n",
       "  </tbody>\n",
       "</table>\n",
       "</div>"
      ],
      "text/plain": [
       "        Unnamed: 0          Age\n",
       "count  1368.000000  1368.000000\n",
       "mean    683.500000    37.837719\n",
       "std     395.051895    13.326082\n",
       "min       0.000000    14.000000\n",
       "25%     341.750000    28.000000\n",
       "50%     683.500000    35.000000\n",
       "75%    1025.250000    44.000000\n",
       "max    1367.000000    72.000000"
      ]
     },
     "execution_count": 77,
     "metadata": {},
     "output_type": "execute_result"
    }
   ],
   "source": [
    "mdf=pd.read_excel('ModfideData.xlsx');\n",
    "mdf.describe()\n"
   ]
  },
  {
   "cell_type": "code",
   "execution_count": null,
   "id": "71bd0477",
   "metadata": {},
   "outputs": [],
   "source": []
  },
  {
   "cell_type": "code",
   "execution_count": null,
   "id": "996a7319",
   "metadata": {},
   "outputs": [],
   "source": []
  }
 ],
 "metadata": {
  "kernelspec": {
   "display_name": "Python 3 (ipykernel)",
   "language": "python",
   "name": "python3"
  },
  "language_info": {
   "codemirror_mode": {
    "name": "ipython",
    "version": 3
   },
   "file_extension": ".py",
   "mimetype": "text/x-python",
   "name": "python",
   "nbconvert_exporter": "python",
   "pygments_lexer": "ipython3",
   "version": "3.9.7"
  }
 },
 "nbformat": 4,
 "nbformat_minor": 5
}
