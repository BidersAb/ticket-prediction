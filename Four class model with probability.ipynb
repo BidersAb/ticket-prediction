{
 "cells": [
  {
   "cell_type": "markdown",
   "id": "967b3a10",
   "metadata": {},
   "source": [
    "# import the neccessary module and load data"
   ]
  },
  {
   "cell_type": "code",
   "execution_count": null,
   "id": "bc2bf935",
   "metadata": {},
   "outputs": [],
   "source": [
    "import pandas as pd\n",
    "import numpy as np\n",
    "import seaborn as sb\n",
    "from datetime import date\n",
    "import matplotlib.pyplot as plt\n",
    "from sklearn.metrics import plot_confusion_matrix\n",
    "import tkinter\n",
    "from tkinter import *\n",
    "from PIL import ImageTk, Image\n",
    "import string\n",
    "\n",
    "data=pd.read_excel('Data.xlsx')\n",
    "\n",
    "# data['Tiket Status '].value_counts()\n"
   ]
  },
  {
   "cell_type": "code",
   "execution_count": null,
   "id": "3057aeb5",
   "metadata": {},
   "outputs": [],
   "source": [
    "data"
   ]
  },
  {
   "cell_type": "markdown",
   "id": "9c44276d",
   "metadata": {},
   "source": [
    "# Generate Age"
   ]
  },
  {
   "cell_type": "code",
   "execution_count": null,
   "id": "f41794ad",
   "metadata": {},
   "outputs": [],
   "source": [
    "def calculateAge(birthdate):\n",
    "    today = date.today()\n",
    "    age = today.year - birthdate.year - ((today.month, today.day) < (birthdate.month, birthdate.day))\n",
    "    return age\n",
    "\n",
    "for index, row in data.iterrows():\n",
    "    age=calculateAge(row['dateOfBirth'])\n",
    "    if(age<14):\n",
    "        data.iloc[index,4]=\"Children\"\n",
    "    elif(age<25):\n",
    "        data.iloc[index,4]=\"Youth\"\n",
    "    elif(age<65):\n",
    "        data.iloc[index,4]=\"Adult\"\n",
    "    else:\n",
    "        data.iloc[index,4]=\"Senior\""
   ]
  },
  {
   "cell_type": "markdown",
   "id": "e50a6981",
   "metadata": {},
   "source": [
    "# Generate Quarter Number"
   ]
  },
  {
   "cell_type": "code",
   "execution_count": null,
   "id": "0b9d2adf",
   "metadata": {},
   "outputs": [],
   "source": [
    "df=data\n",
    "for index, row in df.iterrows():\n",
    "    RDate=row['Tiketed_Date']\n",
    "    month=pd.to_datetime(RDate).month\n",
    "    if(month<=3):\n",
    "        month=1\n",
    "    elif(month<=6):\n",
    "        month=2\n",
    "    elif(month<=9):\n",
    "        month=3\n",
    "    else:\n",
    "        month=4\n",
    "    df.loc[df['Tiketed_Date'] == RDate,'Tiketed_Date']=month"
   ]
  },
  {
   "cell_type": "code",
   "execution_count": null,
   "id": "babc6d26",
   "metadata": {},
   "outputs": [],
   "source": [
    "data"
   ]
  },
  {
   "cell_type": "markdown",
   "id": "912a90d1",
   "metadata": {},
   "source": [
    "# Drop irrelevant column and clean data "
   ]
  },
  {
   "cell_type": "code",
   "execution_count": null,
   "id": "dc4b00d3",
   "metadata": {},
   "outputs": [],
   "source": [
    "cols_to_drop=['miles','Rescheduled_Date','Date_of_Cancelation','title','Ticket First time Use','Rescheduled_Date','Refund Status','dateOfBirth']\n",
    "df=data.drop(cols_to_drop,axis=1)"
   ]
  },
  {
   "cell_type": "code",
   "execution_count": null,
   "id": "40d56a5a",
   "metadata": {},
   "outputs": [],
   "source": [
    "df"
   ]
  },
  {
   "cell_type": "markdown",
   "id": "9e268ddc",
   "metadata": {},
   "source": [
    "# Modify Class of service"
   ]
  },
  {
   "cell_type": "code",
   "execution_count": null,
   "id": "9eee6c96",
   "metadata": {},
   "outputs": [],
   "source": [
    "df.loc[df['cabin_class of service'] == 'Economy Class','cabin_class of service']='Economy'\n",
    "df.loc[df['cabin_class of service'] == 'Business Class','cabin_class of service']='Business'\n",
    "df.loc[df['Nationality'] == 'Ethiopia','Nationality']='Local'\n",
    "df.loc[df['Nationality'] != 'Local','Nationality']='Foreign'"
   ]
  },
  {
   "cell_type": "code",
   "execution_count": null,
   "id": "821a448a",
   "metadata": {},
   "outputs": [],
   "source": [
    "df"
   ]
  },
  {
   "cell_type": "markdown",
   "id": "b211c0d4",
   "metadata": {},
   "source": [
    "# Check for null value"
   ]
  },
  {
   "cell_type": "code",
   "execution_count": null,
   "id": "087ed0d5",
   "metadata": {},
   "outputs": [],
   "source": [
    "sb.heatmap(df.isnull())"
   ]
  },
  {
   "cell_type": "markdown",
   "id": "b5396041",
   "metadata": {},
   "source": [
    "# Filling Missing value"
   ]
  },
  {
   "cell_type": "code",
   "execution_count": null,
   "id": "36100c14",
   "metadata": {},
   "outputs": [],
   "source": [
    "df[\"gender\"].fillna(df['gender'].mode()[0], inplace = True)\n",
    "df[\"Nationality\"].fillna(df['Nationality'].mode()[0], inplace = True)\n",
    "df[\"Age\"].fillna(df['Age'].mode()[0], inplace = True)\n",
    "df[\"Fligth_ID\"].fillna(df['Fligth_ID'].mode()[0], inplace = True)\n",
    "df[\"cabin_class of service\"].fillna(df['cabin_class of service'].mode()[0], inplace = True)\n",
    "df[\"Reservation Status\"].fillna(df['Reservation Status'].mode()[0], inplace = True)\n",
    "df[\"Date_of_Reservation\"].fillna(df['Date_of_Reservation'].mode()[0], inplace = True)\n",
    "df[\"Tiketed_Date\"].fillna(df['Tiketed_Date'].mode()[0], inplace = True)"
   ]
  },
  {
   "cell_type": "code",
   "execution_count": null,
   "id": "3bdbcfe8",
   "metadata": {},
   "outputs": [],
   "source": [
    "df['Fligth_ID'].mode()[0]"
   ]
  },
  {
   "cell_type": "code",
   "execution_count": null,
   "id": "d10be394",
   "metadata": {},
   "outputs": [],
   "source": [
    "sb.heatmap(df.isnull())"
   ]
  },
  {
   "cell_type": "markdown",
   "id": "5d6565a4",
   "metadata": {},
   "source": [
    "# Data Cleaning "
   ]
  },
  {
   "cell_type": "code",
   "execution_count": null,
   "id": "7f9b72a1",
   "metadata": {},
   "outputs": [],
   "source": [
    "df.loc[df['Tiket Status '] == 'Ticketed Used','Tiket Status ']='Tickete Used'\n",
    "df.loc[df['Tiket Status '] == 'Canceled','Tiket Status ']='Tickete Not Used'\n",
    "df.loc[df['Tiket Status '] == 'Not Ticketed','Tiket Status ']='Tickete Not Used'\n",
    "df.loc[df['Nationality'] == 'Ethiopia','Nationality']='Local'\n",
    "df.loc[df['Nationality'] != 'Local','Nationality']='Foreign'\n",
    "# 0 Canceled\n",
    "# 1 Exchanged\n",
    "# 2 Not Ticketed\n",
    "# 3 Refunded\n",
    "# 4 Ticketed Used\n",
    "# 5 Tiketed  Not Used\n",
    "df"
   ]
  },
  {
   "cell_type": "markdown",
   "id": "e54667c9",
   "metadata": {},
   "source": [
    "# Convert Text categories in to numeric categories"
   ]
  },
  {
   "cell_type": "code",
   "execution_count": null,
   "id": "ef8a55a0",
   "metadata": {},
   "outputs": [],
   "source": [
    "from sklearn.preprocessing import LabelEncoder\n",
    "\n",
    "# Convert categorical value to number \n",
    "le_Age=LabelEncoder()\n",
    "le_gender=LabelEncoder()\n",
    "le_nationality=LabelEncoder()\n",
    "le_flightID=LabelEncoder()\n",
    "le_cabinClass=LabelEncoder()\n",
    "le_reservationStatus=LabelEncoder()\n",
    "le_ticket_status=LabelEncoder()\n",
    "\n",
    "df['N_Age']=le_Age.fit_transform(df['Age'])\n",
    "df['N_Gender']=le_nationality.fit_transform(df['gender'])\n",
    "df['N_Nationality']=le_nationality.fit_transform(df['Nationality'])\n",
    "df['N_FlightID']=le_nationality.fit_transform(df['Fligth_ID'])\n",
    "df['N_CabinClass']=le_nationality.fit_transform(df['cabin_class of service'])\n",
    "df['N_ReservationStatus']=le_nationality.fit_transform(df['Reservation Status'])\n",
    "df['N_TicketStatus']=le_nationality.fit_transform(df['Tiket Status '])\n",
    "\n",
    "# convert date or timestamp to number \n",
    "\n",
    "le_ReservationDate=LabelEncoder()\n",
    "\n",
    "df['N_ReservationDate']=le_nationality.fit_transform(df['Date_of_Reservation'])\n",
    "\n",
    "before_drop=df;\n"
   ]
  },
  {
   "cell_type": "markdown",
   "id": "311a703a",
   "metadata": {},
   "source": [
    "# Categorize Date into month interval"
   ]
  },
  {
   "cell_type": "code",
   "execution_count": null,
   "id": "060843e2",
   "metadata": {},
   "outputs": [],
   "source": [
    "for index, row in df.iterrows():\n",
    "    RDate=row['N_ReservationDate']\n",
    "    if(RDate<30):\n",
    "        df.iloc[index,16]=0\n",
    "    elif(RDate<60):\n",
    "        df.iloc[index,16]=1\n",
    "    elif(RDate<90):\n",
    "        df.iloc[index,16]=2\n",
    "    elif(RDate>=90):\n",
    "        df.iloc[index,16]=3\n"
   ]
  },
  {
   "cell_type": "code",
   "execution_count": null,
   "id": "a49e2164",
   "metadata": {},
   "outputs": [],
   "source": [
    "df"
   ]
  },
  {
   "cell_type": "code",
   "execution_count": null,
   "id": "5a9a3d79",
   "metadata": {},
   "outputs": [],
   "source": [
    "pd.options.display.min_rows=300\n",
    "df"
   ]
  },
  {
   "cell_type": "markdown",
   "id": "0e550fd9",
   "metadata": {},
   "source": [
    "# Drop categorical value"
   ]
  },
  {
   "cell_type": "code",
   "execution_count": null,
   "id": "3bddb5a2",
   "metadata": {},
   "outputs": [],
   "source": [
    "cols_to_drop=['Age','gender','Nationality','Fligth_ID','cabin_class of service','Reservation Status','Tiket Status ','Date_of_Reservation']\n",
    "new_df=df.drop(cols_to_drop,axis=1)\n"
   ]
  },
  {
   "cell_type": "code",
   "execution_count": null,
   "id": "25f806cb",
   "metadata": {},
   "outputs": [],
   "source": [
    "new_df.head(25)"
   ]
  },
  {
   "cell_type": "markdown",
   "id": "eb5562a5",
   "metadata": {},
   "source": [
    "# Split the Dataset in to training and test data set"
   ]
  },
  {
   "cell_type": "code",
   "execution_count": null,
   "id": "6a3d10c1",
   "metadata": {},
   "outputs": [],
   "source": [
    "from sklearn.model_selection import train_test_split\n",
    "\n",
    "input_x=new_df[['N_Age','N_Gender','N_Nationality','N_FlightID','N_CabinClass','Tiketed_Date']]\n",
    "target_y=new_df['N_TicketStatus']\n",
    "\n",
    "x_train,x_test,y_train,y_test=train_test_split(input_x,target_y,test_size=0.3,random_state=0)\n"
   ]
  },
  {
   "cell_type": "code",
   "execution_count": null,
   "id": "6994caf0",
   "metadata": {},
   "outputs": [],
   "source": [
    "x_train"
   ]
  },
  {
   "cell_type": "code",
   "execution_count": null,
   "id": "d20060bb",
   "metadata": {},
   "outputs": [],
   "source": [
    "x_test"
   ]
  },
  {
   "cell_type": "markdown",
   "id": "f8afcf24",
   "metadata": {},
   "source": [
    "# Build Decission Tree Classifier model "
   ]
  },
  {
   "cell_type": "code",
   "execution_count": null,
   "id": "b9f85497",
   "metadata": {
    "scrolled": true
   },
   "outputs": [],
   "source": [
    "from sklearn import tree\n",
    "\n",
    "# Build\n",
    "model=tree.DecisionTreeClassifier() \n",
    "\n",
    "\n"
   ]
  },
  {
   "cell_type": "markdown",
   "id": "f66362b8",
   "metadata": {},
   "source": [
    "# Train Data "
   ]
  },
  {
   "cell_type": "code",
   "execution_count": null,
   "id": "0f9186cc",
   "metadata": {},
   "outputs": [],
   "source": [
    "testY=model.fit(input_x,target_y)\n",
    "actual=model.score(x_train,y_train)\n",
    "actual"
   ]
  },
  {
   "cell_type": "markdown",
   "id": "c8590832",
   "metadata": {},
   "source": [
    "# Test Data"
   ]
  },
  {
   "cell_type": "code",
   "execution_count": null,
   "id": "24b10133",
   "metadata": {},
   "outputs": [],
   "source": [
    "predict=model.predict(x_test)\n",
    "model.score(x_test,y_test)\n"
   ]
  },
  {
   "cell_type": "markdown",
   "id": "42262386",
   "metadata": {},
   "source": [
    "# Accuracy Test"
   ]
  },
  {
   "cell_type": "code",
   "execution_count": null,
   "id": "1abc9c48",
   "metadata": {},
   "outputs": [],
   "source": [
    "from sklearn.metrics import accuracy_score\n",
    "accuracy_score(y_test, predict)"
   ]
  },
  {
   "cell_type": "markdown",
   "id": "e20eef3f",
   "metadata": {},
   "source": [
    "# Confusion matrix "
   ]
  },
  {
   "cell_type": "code",
   "execution_count": null,
   "id": "a942ab67",
   "metadata": {},
   "outputs": [],
   "source": [
    "from sklearn.metrics import confusion_matrix\n",
    "\n",
    "matrix=plot_confusion_matrix(model,x_test,y_test,cmap=plt.cm.Reds)\n",
    "# matrix.ax_.set_title('Confusion Matrix',color='white')\n",
    "# plt.xlabel('True Label',color='white')\n",
    "# plt.ylabel('True Label',color='white')\n",
    "plt.gcf().axes[0].tick_params(color='white')\n",
    "plt.gcf().axes[1].tick_params(color='white')\n",
    "plt.gcf().set_size_inches(10,5)\n",
    "plt.show()\n",
    "# confusion_matrix(y_test, predict)\n",
    "# confusionchart(confusion_matrix(y_true, y_pred))\n",
    "# correct=27+2+27+207+6\n",
    "# incorrect=2+1\n",
    "# total=274 #the total is y_test length\n",
    "# accuray=correct/total\n"
   ]
  },
  {
   "cell_type": "code",
   "execution_count": null,
   "id": "301103be",
   "metadata": {},
   "outputs": [],
   "source": [
    "import numpy as np\n",
    "from sklearn.metrics import classification_report\n",
    "\n",
    "print(classification_report(y_test, predict))\n",
    "# 0 Canceled\n",
    "# 1 Exchanged\n",
    "# 2 Not Ticketed\n",
    "# 3 Refunded\n",
    "# 4 Ticketed Used\n",
    "# 5 Tiketed  Not Used"
   ]
  },
  {
   "cell_type": "markdown",
   "id": "b44c405a",
   "metadata": {},
   "source": [
    "# Random prediction for test"
   ]
  },
  {
   "cell_type": "code",
   "execution_count": null,
   "id": "bb5b4403",
   "metadata": {},
   "outputs": [],
   "source": [
    "# to do function\n",
    "# 'N_Age','N_Gender','N_Nationality','N_FlightID','N_CabinClass','Tiketed_Date'\n",
    "\n",
    "print(model.predict([[0,0,1,0,1,4]]))"
   ]
  },
  {
   "cell_type": "code",
   "execution_count": null,
   "id": "fbaef3f8",
   "metadata": {},
   "outputs": [],
   "source": [
    "#new_df"
   ]
  },
  {
   "cell_type": "code",
   "execution_count": null,
   "id": "e8696c93",
   "metadata": {},
   "outputs": [],
   "source": [
    "df['N_TicketStatus'].value_counts()\n",
    "# 0 Exchanged\n",
    "# 1 Refunded              \n",
    "# 2 Tiketed  Not Used             \n",
    "# 3 Tickete Used\n"
   ]
  },
  {
   "cell_type": "code",
   "execution_count": null,
   "id": "cfb6f4e6",
   "metadata": {},
   "outputs": [],
   "source": [
    "before_drop['Tiket Status '].value_counts()"
   ]
  },
  {
   "cell_type": "code",
   "execution_count": null,
   "id": "d5b61bf0",
   "metadata": {},
   "outputs": [],
   "source": [
    "test=before_drop.sort_values(['Nationality'])\n",
    "test.head(50)\n"
   ]
  },
  {
   "cell_type": "code",
   "execution_count": null,
   "id": "9dfe4616",
   "metadata": {},
   "outputs": [],
   "source": [
    "before_drop.loc[before_drop['Nationality'] == 'Ethiopia','Nationality']='Local'\n",
    "before_drop.loc[before_drop['Nationality'] != 'Local','Nationality']='Foreign'"
   ]
  },
  {
   "cell_type": "code",
   "execution_count": null,
   "id": "4cf2f971",
   "metadata": {},
   "outputs": [],
   "source": [
    "before_drop"
   ]
  },
  {
   "cell_type": "code",
   "execution_count": null,
   "id": "4a01ef58",
   "metadata": {},
   "outputs": [],
   "source": [
    "before_drop.groupby(['Tiket Status ']).count()"
   ]
  },
  {
   "cell_type": "markdown",
   "id": "3318f7f4",
   "metadata": {},
   "source": [
    "# Gender with Ticket Status Aggregation"
   ]
  },
  {
   "cell_type": "code",
   "execution_count": null,
   "id": "9b44584d",
   "metadata": {},
   "outputs": [],
   "source": [
    "genderTicketAggregated= before_drop.groupby(['Tiket Status ','gender'],as_index=True).count()\n",
    "tobedrop=['Age','N_Gender','N_Nationality','N_FlightID','N_CabinClass','N_TicketStatus','N_ReservationStatus','N_ReservationDate','Nationality','Fligth_ID','cabin_class of service','Reservation Status','Tiketed_Date','Date_of_Reservation']\n",
    "result=genderTicketAggregated.drop(tobedrop,axis=1)\n",
    "result\n",
    "# Assign row as column headers\n",
    "result\n",
    "genderDf = pd.DataFrame(columns=[\"Index\",\"Gender\",\"Exchanged\",\"Refunded\",\"Tiketed Not Used\",\"Ticketed Used\"]).set_index('Index')\n",
    "genderDf[genderDf.columns[0]] = [\"Female\", \"Male\"]\n",
    "test=[]\n",
    "for index, row in result.iterrows():\n",
    "    test.append(row[0])\n",
    "j=0;\n",
    "for i in range(len(test)):\n",
    "    this_column = genderDf.columns[i+1]\n",
    "    genderDf[this_column] = [test[j], test[j+1]]\n",
    "    j=j+2\n",
    "    if(i==3):\n",
    "        break\n",
    "genderDf.to_excel(\"GenderTicketStatusAggregationResult.xlsx\",index=False)\n",
    "genderTicket=pd.read_excel('GenderTicketStatusAggregationResult.xlsx')\n",
    "genderTicketTranspose=genderTicket.T\n",
    "genderTicketTranspose=genderTicketTranspose.iloc[1: , :]\n",
    "sortedgenderTicket=genderTicketTranspose.sort_values([0])\n",
    "x=[]\n",
    "y=[]\n",
    "zStatus=[]\n",
    "\n",
    "for index, row in sortedgenderTicket.iterrows():\n",
    "    x.append(row[0])\n",
    "    y.append(row[1])\n",
    "    zStatus.append(index)\n",
    "    \n",
    "plt.plot(x,zStatus)\n",
    "plt.plot(y,zStatus)\n",
    " \n",
    "plt.xlabel(\"Number of Ticket\")\n",
    "plt.ylabel(\"Ticket Status\")\n",
    "plt.title(\"Ticket Status with Gender\")\n",
    "plt.legend([\"Female\",\"Male\"])\n",
    "plt.show()\n",
    "genderTicket"
   ]
  },
  {
   "cell_type": "markdown",
   "id": "ea7e8697",
   "metadata": {},
   "source": [
    "# probability of female and male with regard to ticket status"
   ]
  },
  {
   "cell_type": "code",
   "execution_count": null,
   "id": "36d5a9ea",
   "metadata": {},
   "outputs": [],
   "source": [
    "genderTicketAggregated= before_drop.groupby(['Tiket Status ','gender'],as_index=True).count()\n",
    "tobedrop=['Age','N_Gender','N_Nationality','N_FlightID','N_CabinClass','N_TicketStatus','N_ReservationStatus','N_ReservationDate','Nationality','Fligth_ID','cabin_class of service','Reservation Status','Tiketed_Date','Date_of_Reservation']\n",
    "result=genderTicketAggregated.drop(tobedrop,axis=1)\n",
    "result\n",
    "# Assign row as column headers\n",
    "result\n",
    "\n",
    "genderDf = pd.DataFrame(columns=[\"Index\",\"Gender\",\"Exchanged\",\"Refunded\",\"Tiketed Not Used\",\"Ticketed Used\"]).set_index('Index')\n",
    "genderDf[genderDf.columns[0]] = [\"Female\", \"Male\",\"probability\"]\n",
    "test=[]\n",
    "test1=[]\n",
    "totalFemale=0\n",
    "totalMale=0\n",
    "\n",
    "exchange=0\n",
    "refunde=0\n",
    "tused=0\n",
    "tnotused=0\n",
    "totalProb=[]\n",
    "test=[]\n",
    "for index, row in result.iterrows():\n",
    "    test.append(row[0])\n",
    "i=0;\n",
    "for i in range(len(test)):\n",
    "    exchange=test[i]+test[i+1]\n",
    "    totalProb.append(exchange)\n",
    "    refunde=test[i+2]+test[i+3]\n",
    "    totalProb.append(refunde)\n",
    "    tused=test[i+4]+test[i+5]\n",
    "    totalProb.append(tused)\n",
    "    tnotused=test[i+6]+test[i+7]\n",
    "    totalProb.append(tnotused)\n",
    "    break\n",
    "\n",
    "i=0\n",
    "for index, row in result.iterrows():\n",
    "    if(i%2==0):\n",
    "        totalFemale=row[0]+totalFemale\n",
    "    else:\n",
    "        totalMale=row[0]+totalMale\n",
    "    i=i+1\n",
    "\n",
    "for index, row in result.iterrows():\n",
    "    if(i%2==0):\n",
    "        test1.append((row[0]/totalFemale))\n",
    "    else:\n",
    "        test1.append((row[0]/totalMale))\n",
    "    i=i+1\n",
    "    \n",
    "mergedData=[]\n",
    "total=totalFemale+totalMale\n",
    "j=0\n",
    "for i in range(len(test)):\n",
    "    if(j%2==0):\n",
    "        mergedData.append(test[j]) \n",
    "        mergedData.append(test[j+1])\n",
    "    else:\n",
    "        mergedData.append((test[j] + test[j-1])/total)\n",
    "    j=j+1\n",
    "       \n",
    "\n",
    "j=0\n",
    "k=0\n",
    "for i in range(len(mergedData)):\n",
    "    this_column = genderDf.columns[i+1]\n",
    "    genderDf[this_column] = [test1[k], test1[k+1],mergedData[j+2]]\n",
    "    j=j+3\n",
    "    k=k+2\n",
    "    if(i==3):\n",
    "        break\n",
    "\n",
    "genderDf.to_excel(\"GenderTicketStatusAggregationResult.xlsx\",index=False)\n",
    "genderTicket=pd.read_excel('GenderTicketStatusAggregationResult.xlsx')\n",
    "genderTicketTranspose=genderTicket.T\n",
    "genderTicketTranspose=genderTicketTranspose.iloc[1: , :]\n",
    "sortedgenderTicket=genderTicketTranspose.sort_values([0])\n",
    "genderTicket\n",
    "\n",
    "genderTicket"
   ]
  },
  {
   "cell_type": "code",
   "execution_count": null,
   "id": "aa41430e",
   "metadata": {},
   "outputs": [],
   "source": [
    "# before_drop"
   ]
  },
  {
   "cell_type": "markdown",
   "id": "933e8d52",
   "metadata": {},
   "source": [
    "# Class of Service with Ticket Status Aggregation"
   ]
  },
  {
   "cell_type": "code",
   "execution_count": null,
   "id": "57d17141",
   "metadata": {},
   "outputs": [],
   "source": [
    "classOfServiceTicketAggregated= before_drop.groupby(['Tiket Status ','cabin_class of service'],as_index=True).count()\n",
    "tobedrop=['Age','N_Gender','N_Nationality','N_FlightID','N_CabinClass','N_TicketStatus','N_ReservationStatus','N_ReservationDate','Nationality','Fligth_ID','gender','Reservation Status','Tiketed_Date','Date_of_Reservation']\n",
    "result=classOfServiceTicketAggregated.drop(tobedrop,axis=1)\n",
    "result\n",
    "# Assign row as column headers\n",
    "result\n",
    "classDf = pd.DataFrame(columns=[\"Index\",\"Class\",\"Exchanged\",\"Refunded\",\"Tiketed Not Used\",\"Ticketed Used\"]).set_index('Index')\n",
    "classDf[classDf.columns[0]] = [\"Business\", \"Economic\"]\n",
    "test=[]\n",
    "for index, row in result.iterrows():\n",
    "    test.append(row[0])\n",
    "j=0;\n",
    "for i in range(len(test)):\n",
    "    this_column = classDf.columns[i+1]\n",
    "    classDf[this_column] = [test[j], test[j+1]]\n",
    "    j=j+2\n",
    "    if(i==3):\n",
    "        break\n",
    "classDf.to_excel(\"ClassOfServiceTicketStatusAggregationResult.xlsx\",index=False)\n",
    "classTicket=pd.read_excel('ClassOfServiceTicketStatusAggregationResult.xlsx')\n",
    "classTicket\n",
    "classTicketTranspose=classTicket.T\n",
    "classTicketTranspose=classTicketTranspose.iloc[1: , :]\n",
    "sortedclassTicket=classTicketTranspose.sort_values([0])\n",
    "x=[]\n",
    "y=[]\n",
    "zStatus=[]\n",
    "\n",
    "for index, row in sortedclassTicket.iterrows():\n",
    "    x.append(row[0])\n",
    "    y.append(row[1])\n",
    "    zStatus.append(index)\n",
    "    \n",
    "fig = plt.figure(figsize = (10, 5))\n",
    "plt.bar(zStatus,y)\n",
    "plt.bar(zStatus,x) \n",
    "plt.xlabel(\"Number of Ticket\")\n",
    "plt.ylabel(\"Ticket Status\")\n",
    "plt.title(\"Ticket Status with Class of Service\")\n",
    "plt.legend([\"Economic\",\"Business\"])\n",
    "plt.show()\n",
    "classTicket"
   ]
  },
  {
   "cell_type": "markdown",
   "id": "923872e5",
   "metadata": {},
   "source": [
    "# probability of Business class and Economy class with regard to ticket status"
   ]
  },
  {
   "cell_type": "code",
   "execution_count": null,
   "id": "7be7a70c",
   "metadata": {},
   "outputs": [],
   "source": [
    "classOfServiceTicketAggregated= before_drop.groupby(['Tiket Status ','cabin_class of service'],as_index=True).count()\n",
    "tobedrop=['Age','N_Gender','N_Nationality','N_FlightID','N_CabinClass','N_TicketStatus','N_ReservationStatus','N_ReservationDate','Nationality','Fligth_ID','gender','Reservation Status','Tiketed_Date','Date_of_Reservation']\n",
    "result=classOfServiceTicketAggregated.drop(tobedrop,axis=1)\n",
    "result\n",
    "# Assign row as column headers\n",
    "result\n",
    "classDf = pd.DataFrame(columns=[\"Index\",\"Class\",\"Exchanged\",\"Refunded\",\"Tiketed Not Used\",\"Ticketed Used\"]).set_index('Index')\n",
    "classDf[classDf.columns[0]] = [\"Business\", \"Economic\"]\n",
    "\n",
    "secondData=[]\n",
    "totalBusiness=0\n",
    "totalEconomy=0\n",
    "\n",
    "i=0\n",
    "for index, row in result.iterrows():\n",
    "    if(i%2==0):\n",
    "        totalBusiness=row[0]+totalBusiness\n",
    "    else:\n",
    "        totalEconomy=row[0]+totalEconomy\n",
    "    i=i+1\n",
    "\n",
    "for index, row in result.iterrows():\n",
    "    if(i%2==0):\n",
    "        secondData.append((row[0]/totalBusiness))\n",
    "    else:\n",
    "        secondData.append((row[0]/totalEconomy))\n",
    "    i=i+1\n",
    "    \n",
    "\n",
    "j=0;\n",
    "for i in range(len(secondData)):\n",
    "    this_column = classDf.columns[i+1]\n",
    "    classDf[this_column] = [secondData[j], secondData[j+1]]\n",
    "    j=j+2\n",
    "    if(i==3):\n",
    "        break\n",
    "\n",
    "classDf"
   ]
  },
  {
   "cell_type": "markdown",
   "id": "9dad8835",
   "metadata": {},
   "source": [
    "# Nationality with Ticket Status Aggregation"
   ]
  },
  {
   "cell_type": "code",
   "execution_count": null,
   "id": "2b4d1319",
   "metadata": {},
   "outputs": [],
   "source": [
    "NationalityTicketAggregated= before_drop.groupby(['Tiket Status ','Nationality'],as_index=True).count()\n",
    "tobedrop=['Age','N_Gender','N_Nationality','N_FlightID','N_CabinClass','N_TicketStatus','N_ReservationStatus','N_ReservationDate','cabin_class of service','Fligth_ID','gender','Reservation Status','Tiketed_Date','Date_of_Reservation']\n",
    "result=NationalityTicketAggregated.drop(tobedrop,axis=1)\n",
    "result\n",
    "# Assign row as column headers\n",
    "result\n",
    "nationalityDf = pd.DataFrame(columns=[\"Index\",\"Nationality\", \"Exchanged\",\"Refunded\",\"Tiketed Not Used\",\"Ticketed Used\"]).set_index('Index')\n",
    "nationalityDf[nationalityDf.columns[0]] = [\"Foreign\", \"Local\"]\n",
    "test=[]\n",
    "for index, row in result.iterrows():\n",
    "    test.append(row[0])\n",
    "j=0;\n",
    "for i in range(len(test)):\n",
    "    this_column = nationalityDf.columns[i+1]\n",
    "    nationalityDf[this_column] = [test[j], test[j+1]]\n",
    "    j=j+2\n",
    "    if(i==3):\n",
    "        break\n",
    "nationalityDf.to_excel(\"NationalityTicketStatusAggregationResult.xlsx\",index=False)\n",
    "nationalityTicket=pd.read_excel('NationalityTicketStatusAggregationResult.xlsx')\n",
    "# nationalityTicket.T.sort_values(by=index,axis=1)\n",
    "nationalityTranspose=nationalityTicket.T\n",
    "nationalityTranspose=nationalityTranspose.iloc[1: , :]\n",
    "sortedNationality=nationalityTranspose.sort_values([0])\n",
    "xForeign=[]\n",
    "yLocalcal=[]\n",
    "zStatus=[]\n",
    "\n",
    "for index, row in sortedNationality.iterrows():\n",
    "    xForeign.append(row[0])\n",
    "    yLocalcal.append(row[1])\n",
    "    zStatus.append(index)\n",
    "    \n",
    "# plt.plot(xForeign,zStatus)\n",
    "# plt.plot(yLocalcal,zStatus)\n",
    " \n",
    "# plt.xlabel(\"Number of Ticket\")\n",
    "# plt.ylabel(\"Ticket Status\")\n",
    "# plt.title(\"Ticket Status with Nationality\")\n",
    "# plt.legend([\"Foriegn\",\"Local\"])\n",
    "# plt.show\n",
    "fig = plt.figure(figsize = (10, 5))\n",
    "plt.bar(zStatus,yLocalcal)\n",
    "plt.bar(zStatus,xForeign) \n",
    "plt.xlabel(\"Ticket Status\")\n",
    "plt.ylabel(\"Number of Ticket\")\n",
    "plt.title(\"Ticket Status with Nationality\")\n",
    "plt.legend([\"Local\",\"Foriegn\"])\n",
    "plt.show()\n",
    "nationalityTicket"
   ]
  },
  {
   "cell_type": "markdown",
   "id": "1c8d040b",
   "metadata": {},
   "source": [
    "# probability of Foreign and Local with regard to ticket status"
   ]
  },
  {
   "cell_type": "code",
   "execution_count": null,
   "id": "10e0c541",
   "metadata": {},
   "outputs": [],
   "source": [
    "NationalityTicketAggregated= before_drop.groupby(['Tiket Status ','Nationality'],as_index=True).count()\n",
    "tobedrop=['Age','N_Gender','N_Nationality','N_FlightID','N_CabinClass','N_TicketStatus','N_ReservationStatus','N_ReservationDate','cabin_class of service','Fligth_ID','gender','Reservation Status','Tiketed_Date','Date_of_Reservation']\n",
    "result=NationalityTicketAggregated.drop(tobedrop,axis=1)\n",
    "result\n",
    "# Assign row as column headers\n",
    "result\n",
    "nationalityDf = pd.DataFrame(columns=[\"Index\",\"Nationality\", \"Exchanged\",\"Refunded\",\"Tiketed Not Used\",\"Ticketed Used\"]).set_index('Index')\n",
    "nationalityDf[nationalityDf.columns[0]] = [\"Foreign\", \"Local\"]\n",
    "\n",
    "secondData=[]\n",
    "totalForiegn=0\n",
    "totalLocal=0\n",
    "\n",
    "i=0\n",
    "for index, row in result.iterrows():\n",
    "    if(i%2==0):\n",
    "        totalForiegn=row[0]+totalForiegn\n",
    "    else:\n",
    "        totalLocal=row[0]+totalLocal\n",
    "    i=i+1\n",
    "\n",
    "for index, row in result.iterrows():\n",
    "    if(i%2==0):\n",
    "        secondData.append((row[0]/totalForiegn))\n",
    "    else:\n",
    "        secondData.append((row[0]/totalLocal))\n",
    "    i=i+1\n",
    "    \n",
    "\n",
    "j=0;\n",
    "for i in range(len(secondData)):\n",
    "    this_column = nationalityDf.columns[i+1]\n",
    "    nationalityDf[this_column] = [secondData[j], secondData[j+1]]\n",
    "    j=j+2\n",
    "    if(i==3):\n",
    "        break\n",
    "nationalityDf"
   ]
  },
  {
   "cell_type": "markdown",
   "id": "2aa5c8d8",
   "metadata": {},
   "source": [
    "# Flight Number with Ticket Status Aggregation"
   ]
  },
  {
   "cell_type": "code",
   "execution_count": null,
   "id": "7c7debc0",
   "metadata": {},
   "outputs": [],
   "source": [
    "FlightNumberTicketAggregated= before_drop.groupby(['Tiket Status ','Fligth_ID'],as_index=True).count()\n",
    "tobedrop=['Age','N_Gender','N_Nationality','N_FlightID','N_CabinClass','N_TicketStatus','N_ReservationStatus','N_ReservationDate','Nationality','cabin_class of service','gender','Reservation Status','Tiketed_Date','Date_of_Reservation']\n",
    "result=FlightNumberTicketAggregated.drop(tobedrop,axis=1)\n",
    "result\n",
    "# Assign row as column headers\n",
    "result\n",
    "flightDf = pd.DataFrame(columns=[\"Index\",\"Flight Number\", \"Exchanged\",\"Refunded\",\"Tiketed Not Used\",\"Ticketed Used\"]).set_index('Index')\n",
    "flightDf[flightDf.columns[0]] = [\"ET114\", \"ET124\",\"ET168\", \"ET266\",\"ET268\"]\n",
    "test=[]\n",
    "for index, row in result.iterrows():\n",
    "    test.append(row[0])   \n",
    "j=0;\n",
    "for i in range(len(test)):\n",
    "    this_column = flightDf.columns[i+1]\n",
    "    flightDf[this_column] = [test[j], test[j+1],test[j+2], test[j+3],test[j+4]]\n",
    "    j=j+5\n",
    "    if(i==3):\n",
    "        break\n",
    "flightDf.to_excel(\"FlightNumberTicketStatusAggregationResult.xlsx\",index=False)\n",
    "flightNumberTicket=pd.read_excel('FlightNumberTicketStatusAggregationResult.xlsx')\n",
    "flightNumberTicket\n",
    "flightNumberTicketTranspose=flightNumberTicket.T\n",
    "flightNumberTicketTranspose=flightNumberTicketTranspose.iloc[1: , :]\n",
    "sortedflightNumberTicket=flightNumberTicketTranspose.sort_values([0])\n",
    "a=[]\n",
    "b=[]\n",
    "c=[]\n",
    "d=[]\n",
    "e=[]\n",
    "zStatus=[]\n",
    "\n",
    "for index, row in sortedflightNumberTicket.iterrows():\n",
    "    a.append(row[0])\n",
    "    b.append(row[1])\n",
    "    c.append(row[2])\n",
    "    d.append(row[3])\n",
    "    e.append(row[4])\n",
    "    zStatus.append(index)\n",
    "    \n",
    "plt.plot(a,zStatus)\n",
    "plt.plot(b,zStatus)\n",
    "plt.plot(c,zStatus)\n",
    "plt.plot(d,zStatus)\n",
    "plt.plot(e,zStatus)\n",
    " \n",
    "plt.xlabel(\"Number of Ticket\")\n",
    "plt.ylabel(\"Ticket Status\")\n",
    "plt.title(\"Ticket Status with Flight Number\")\n",
    "plt.legend([\"ET114\",\"ET124\",\"ET168\",\"ET268\",\"ET266\"])\n",
    "plt.show()\n",
    "print(test)\n",
    "flightNumberTicket\n"
   ]
  },
  {
   "cell_type": "markdown",
   "id": "bfe5e1a9",
   "metadata": {},
   "source": [
    "# Age Status with Ticket Status Aggregation"
   ]
  },
  {
   "cell_type": "code",
   "execution_count": null,
   "id": "a44f5430",
   "metadata": {},
   "outputs": [],
   "source": [
    "AgeTicketAggregated= before_drop.groupby(['Tiket Status ','Age'],as_index=True).count()\n",
    "tobedrop=['Fligth_ID','N_Gender','N_Nationality','N_FlightID','N_CabinClass','N_TicketStatus','N_ReservationStatus','N_ReservationDate','Nationality','cabin_class of service','gender','Reservation Status','Tiketed_Date','Date_of_Reservation']\n",
    "result=AgeTicketAggregated.drop(tobedrop,axis=1)\n",
    "result\n",
    "# Assign row as column headers\n",
    "result\n",
    "ageDf = pd.DataFrame(columns=[\"Index\",\"Age\", \"Exchanged\",\"Refunded\",\"Tiketed Not Used\",\"Ticketed Used\"]).set_index('Index')\n",
    "ageDf[ageDf.columns[0]] = [\"Adult\", \"Youth\",\"Senior\"]\n",
    "test=[]\n",
    "for index, row in result.iterrows():\n",
    "    test.append(row[0])   \n",
    "j=0;\n",
    "for i in range(len(test)):\n",
    "    this_column = ageDf.columns[i+1]\n",
    "    ageDf[this_column] = [test[j], test[j+1],test[j+2]]\n",
    "    j=j+3\n",
    "    if(i==3):\n",
    "        break\n",
    "ageDf.to_excel(\"AgeTicketStatusAggregationResult.xlsx\",index=False)\n",
    "AgeTicket=pd.read_excel('AgeTicketStatusAggregationResult.xlsx')\n",
    "AgeTicket\n",
    "AgeTicketTranspose=AgeTicket.T\n",
    "AgeTicketTranspose=AgeTicketTranspose.iloc[1: , :]\n",
    "sortedAgeTicketTranspose=AgeTicketTranspose.sort_values([0])\n",
    "xForeign=[]\n",
    "yLocalcal=[]\n",
    "zStatus=[]\n",
    "\n",
    "for index, row in sortedAgeTicketTranspose.iterrows():\n",
    "    xForeign.append(row[0])\n",
    "    yLocalcal.append(row[1])\n",
    "    zStatus.append(index)\n",
    "    \n",
    "fig = plt.figure(figsize = (10, 5))\n",
    "plt.bar(zStatus,xForeign) \n",
    "plt.bar(zStatus,yLocalcal)\n",
    "plt.xlabel(\"Ticket Status\")\n",
    "plt.ylabel(\"Number of Ticket\")\n",
    "plt.title(\"Ticket Status with Nationality\")\n",
    "plt.legend([\"Local\",\"Foriegn\"])\n",
    "plt.show()\n",
    "AgeTicket"
   ]
  },
  {
   "cell_type": "markdown",
   "id": "8a6e76df",
   "metadata": {},
   "source": [
    "# Test prediction "
   ]
  },
  {
   "cell_type": "code",
   "execution_count": null,
   "id": "bf2f4c76",
   "metadata": {},
   "outputs": [],
   "source": [
    "\n",
    "def pridictData(age,gender,nationality,flightNo,cabinClass,date):\n",
    "    data=[]\n",
    "    data.append(age) \n",
    "    data.append(gender)\n",
    "    data.append(nationality)\n",
    "    data.append(flightNo)\n",
    "    data.append(cabinClass)\n",
    "    data.append(date)\n",
    "    result=model.predict([data])\n",
    "    return result\n",
    "    \n",
    "# 'N_Age','N_Gender','N_Nationality','N_FlightID','N_CabinClass','Tiketed_Date'    \n",
    "def dataPredictor():\n",
    "    if(agemenu.get()==\"Adult\"):\n",
    "        N_Age=0\n",
    "    elif(agemenu.get()==\"Sineor\"):\n",
    "        N_Age=1\n",
    "    else:\n",
    "        N_Age=1\n",
    "    \n",
    "    if(gendermenu.get()==\"Female\"):\n",
    "        N_Gender=0\n",
    "    else:\n",
    "        N_Gender=1\n",
    "        \n",
    "    if(nationalitymenu.get()==\"Foriegn\"):\n",
    "        N_Nationality=0\n",
    "    else:\n",
    "        N_Nationality=1   \n",
    "    \n",
    "    if(classmenu.get()==\"Business\"):\n",
    "        N_CabinClass=0\n",
    "    else:\n",
    "        N_CabinClass=1 \n",
    "    months=['Quarter 1', 'Quarter 2', 'Quarter 3', 'Quarter 4']\n",
    "   \n",
    "    i=1\n",
    "    for month in months:\n",
    "        if(month==monthmenu.get()):\n",
    "            N_ReservationDate=i\n",
    "        i=i+1\n",
    "    flightNumbers=[\"ET114\",\"ET124\",\"ET168\",\"ET268\",\"ET266\"]\n",
    "   \n",
    "    j=1\n",
    "    for month in flightNumbers:\n",
    "        if(month==flightNomenu.get()):\n",
    "            N_FlightID=j\n",
    "        j=j+1\n",
    "#     N_Age=int()\n",
    "#     N_Gender=int(gendermenu.get())\n",
    "#     N_Nationality=int(nationalitymenu.get())\n",
    "#     N_FlightID=int(flightNomenu.get())\n",
    "#     N_CabinClass=int(classmenu.get())\n",
    "#     N_ReservationDate=int(monthmenu.get())\n",
    "# 0 Exchanged\n",
    "# 1 Refunded              \n",
    "# 2 Tiketed  Not Used             \n",
    "# 3 Tickete Used\n",
    "\n",
    "    result=pridictData(N_Age,N_Gender,N_Nationality,N_FlightID,N_CabinClass,N_ReservationDate)\n",
    "    if(result[0]==0):\n",
    "        lblMessege.config(text=\"The result shows that, this ticket will be Exchanged\")\n",
    "    elif(result[0]==1):\n",
    "        lblMessege.config(text=\"The result shows that, this ticket will be Refunded\")\n",
    "    elif(result[0]==2):\n",
    "        lblMessege.config(text=\"The result shows that, this ticket will be Tiket Not Used\")\n",
    "    else:\n",
    "        lblMessege.config(text=\"The result shows that, this ticket will be Ticket used\")\n",
    "#     check if the text entry is empty or not\n",
    "        \n",
    "        \n",
    "        \n",
    "def ErrorMessage(message):\n",
    "    \n",
    "    lblError.config(text=message)\n",
    "\n",
    "\n",
    "window = Tk()\n",
    "\n",
    "window.title(\"Welcome to Ticket used prediction system \")\n",
    "\n",
    "window.geometry('800x500')\n",
    "\n",
    "lbl1 = Label(window, text=\"Let us predict the ticket status\",font=(50),fg=\"green\")\n",
    "\n",
    "lbl1.grid(column=1, row=1,padx=10, pady=10)\n",
    "\n",
    "\n",
    "agelbl = Label(window, text=\"Age\",font=(12),fg=\"green\")\n",
    "\n",
    "agelbl.grid(column=0, row=4,padx=20, pady=10)\n",
    "\n",
    "agelbl.grid(column=0, row=4,padx=20, pady=10)\n",
    "\n",
    "agemenu= StringVar()\n",
    "agemenu.set(\"Adult\")\n",
    "drop= OptionMenu(window, agemenu, \"Adult\", \"Youth\",\"Sineor\")\n",
    "drop.grid(row=4, column=1,padx=20, pady=10)\n",
    "drop.config(width = 25)\n",
    "drop.config(bg = \"White\")\n",
    "drop.grid()\n",
    "\n",
    "\n",
    "genderlbl = Label(window, text=\"Gender\",font=(12),fg=\"green\")\n",
    "\n",
    "genderlbl.grid(column=0, row=5,padx=20, pady=5)\n",
    "\n",
    "genderlbl.grid(column=0, row=5,padx=20, pady=5)\n",
    "\n",
    "gendermenu= StringVar()\n",
    "gendermenu.set(\"Male\")\n",
    "drop= OptionMenu(window, gendermenu, \"Male\", \"Female\")\n",
    "drop.grid(row=5, column=1,padx=20, pady=10)\n",
    "drop.config(width = 25)\n",
    "drop.config(bg = \"White\")\n",
    "drop.grid()\n",
    "\n",
    "\n",
    "\n",
    "nationalitylbl = Label(window, text=\"Nationality\",font=(12),fg=\"green\")\n",
    "\n",
    "nationalitylbl.grid(column=0, row=6,padx=20, pady=2)\n",
    "\n",
    "nationalitylbl.grid(column=0, row=6,padx=20, pady=2)\n",
    "\n",
    "nationalitymenu= StringVar()\n",
    "nationalitymenu.set(\"Local\")\n",
    "drop= OptionMenu(window, nationalitymenu, \"Local\", \"Foriegn\")\n",
    "drop.grid(row=6, column=1,padx=20, pady=10)\n",
    "drop.config(width = 25)\n",
    "drop.config(bg = \"White\")\n",
    "drop.grid()\n",
    "\n",
    "\n",
    "N_FlightIDlbl = Label(window, text=\"Flight ID\",font=(12),fg=\"green\")\n",
    "\n",
    "N_FlightIDlbl.grid(column=0, row=7,padx=20, pady=2)\n",
    "\n",
    "N_FlightIDlbl.grid(column=0, row=7,padx=20, pady=2)\n",
    "\n",
    "flightNomenu= StringVar()\n",
    "flightNomenu.set(\"ET114\")\n",
    "drop= OptionMenu(window, flightNomenu, \"ET114\",\"ET124\",\"ET168\",\"ET268\",\"ET266\")\n",
    "drop.grid(row=7, column=1,padx=20, pady=10)\n",
    "drop.config(width = 25)\n",
    "drop.config(bg = \"White\")\n",
    "drop.grid()\n",
    "\n",
    "\n",
    "N_CabinClasslbl = Label(window, text=\"Cabin Class\",font=(12),fg=\"green\")\n",
    "\n",
    "N_CabinClasslbl.grid(column=0, row=8,padx=20, pady=2)\n",
    "\n",
    "N_CabinClasslbl.grid(column=0, row=8,padx=20, pady=2)\n",
    "\n",
    "classmenu= StringVar()\n",
    "classmenu.set(\"Economy\")\n",
    "drop= OptionMenu(window, classmenu, \"Economy\", \"Business\")\n",
    "drop.grid(row=8, column=1)\n",
    "drop.config(width = 25)\n",
    "drop.config(bg = \"White\")\n",
    "drop.grid()\n",
    "\n",
    "\n",
    "N_ReservationDatelbl = Label(window, text=\"Reservation Month\",font=(12),fg=\"green\")\n",
    "\n",
    "N_ReservationDatelbl.grid(column=0, row=9,padx=20, pady=2)\n",
    "\n",
    "N_ReservationDatelbl.grid(column=0, row=9,padx=20, pady=2)\n",
    "\n",
    "monthmenu= StringVar()\n",
    "monthmenu.set(\"Quarter 1\")\n",
    "drop= OptionMenu(window, monthmenu, 'Quarter 1', 'Quarter 2', 'Quarter 3', 'Quarter 4')\n",
    "drop.grid(row=9, column=1,padx=20, pady=10)\n",
    "drop.config(width = 25)\n",
    "drop.config(bg = \"White\")\n",
    "drop.grid()\n",
    "\n",
    "\n",
    "btn = Button(window, text=\"pridict\",font=(12), command=dataPredictor, bg=\"green\", fg=\"white\")\n",
    "\n",
    "btn.grid(column=1, row=10,padx=0)\n",
    "\n",
    "lblMessege=Label(window, text=\" \",font=(18), fg=\"blue\")\n",
    "\n",
    "lblMessege.grid(column=1, row=11,padx=0, pady=0)\n",
    "\n",
    "\n",
    "window.mainloop()"
   ]
  },
  {
   "cell_type": "code",
   "execution_count": null,
   "id": "851537b2",
   "metadata": {},
   "outputs": [],
   "source": []
  },
  {
   "cell_type": "code",
   "execution_count": null,
   "id": "caa667ce",
   "metadata": {},
   "outputs": [],
   "source": []
  }
 ],
 "metadata": {
  "kernelspec": {
   "display_name": "Python 3 (ipykernel)",
   "language": "python",
   "name": "python3"
  },
  "language_info": {
   "codemirror_mode": {
    "name": "ipython",
    "version": 3
   },
   "file_extension": ".py",
   "mimetype": "text/x-python",
   "name": "python",
   "nbconvert_exporter": "python",
   "pygments_lexer": "ipython3",
   "version": "3.9.7"
  }
 },
 "nbformat": 4,
 "nbformat_minor": 5
}
